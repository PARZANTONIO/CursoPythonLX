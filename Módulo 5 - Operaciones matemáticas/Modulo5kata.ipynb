{
 "cells": [
  {
   "cell_type": "code",
   "execution_count": 4,
   "metadata": {},
   "outputs": [
    {
     "name": "stdout",
     "output_type": "stream",
     "text": [
      "-628949330\n",
      "-390577534\n"
     ]
    }
   ],
   "source": [
    "# Crear variables para almacenar las dos distancias\n",
    "disTierra = 149597870\n",
    "distJupiter = 778547200\n",
    "# Calcular la distancia entre planetas\n",
    "resultadokm = disTierra - distJupiter\n",
    "print(resultadokm)\n",
    "resultadoMillas = resultadokm * 0.621\n",
    "print(round(resultadoMillas))\n",
    "\n"
   ]
  },
  {
   "cell_type": "code",
   "execution_count": 17,
   "metadata": {},
   "outputs": [
    {
     "name": "stdout",
     "output_type": "stream",
     "text": [
      "149600000\n",
      "778600000\n",
      "629000000\n",
      "390609000.0\n"
     ]
    }
   ],
   "source": [
    "# Almacenar las entradas del usuario para leer la distancia del sol a cada planeta\n",
    "primerplaneta = input(\"Distancia del sol a la Tierra\")\n",
    "segundoplaneta = input(\"Distancia del sol a la Júpiter\")\n",
    "abs1 = int(primerplaneta)\n",
    "abs2 = int(segundoplaneta)\n",
    "\n",
    "print(int(primerplaneta))\n",
    "print(int(segundoplaneta))\n",
    "resultabs = (abs(abs1 - abs2))\n",
    "print(resultabs)\n",
    "resmill = resultabs * 0.621\n",
    "print(resmill)\n",
    "\n"
   ]
  },
  {
   "cell_type": "code",
   "execution_count": null,
   "metadata": {},
   "outputs": [],
   "source": []
  }
 ],
 "metadata": {
  "interpreter": {
   "hash": "49003a069d6c02fb186676f58658b84b4678e61b93ffd93074ddf71aa53f7c1c"
  },
  "kernelspec": {
   "display_name": "Python 3.10.2 64-bit",
   "language": "python",
   "name": "python3"
  },
  "language_info": {
   "codemirror_mode": {
    "name": "ipython",
    "version": 3
   },
   "file_extension": ".py",
   "mimetype": "text/x-python",
   "name": "python",
   "nbconvert_exporter": "python",
   "pygments_lexer": "ipython3",
   "version": "3.10.2"
  },
  "orig_nbformat": 4
 },
 "nbformat": 4,
 "nbformat_minor": 2
}
