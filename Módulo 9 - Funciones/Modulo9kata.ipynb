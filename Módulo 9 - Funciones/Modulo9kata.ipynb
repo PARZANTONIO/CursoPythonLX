{
 "cells": [
  {
   "cell_type": "code",
   "execution_count": 3,
   "metadata": {},
   "outputs": [
    {
     "name": "stdout",
     "output_type": "stream",
     "text": [
      "Reporte de combustible:\n",
      "    Promedio: 60.0%\n",
      "    Tanque 1: 50%\n",
      "    Tanque 2: 60%\n",
      "    Tanque 3: 70% \n",
      "    \n",
      "Reporte de combustible: Promedio: 63.0% Tanque 1: 45% Tanque 2: 66% Tanque 3: 78% \n"
     ]
    }
   ],
   "source": [
    "# Función para leer 3 tanques de combustible y muestre el promedio\n",
    "\n",
    "def funcionreporte(tanque1, tanque2, tanque3):\n",
    "    total_average = (tanque1 + tanque2 + tanque3) / 3\n",
    "    return f\"\"\"Reporte de combustible:\n",
    "    Promedio: {total_average}%\n",
    "    Tanque 1: {tanque1}%\n",
    "    Tanque 2: {tanque2}%\n",
    "    Tanque 3: {tanque3}% \n",
    "    \"\"\"\n",
    "\n",
    "# Llamamos a la función que genera el reporte print(funcion(tanque1, tanque2, tanque3))\n",
    "print(funcionreporte(50, 60, 70))\n",
    "\n",
    "# Función promedio \n",
    "def average(values):\n",
    "    total = sum(values)\n",
    "    number_of_items = len(values)\n",
    "    return total / number_of_items\n",
    "\n",
    "# Test the averaging function with a list of integers:\n",
    "average([80, 85, 81]) \n",
    "\n",
    "# Actualiza la función\n",
    "def funcionreporte(tanque1, tanque2, tanque3):\n",
    "    return f\"\"\"Reporte de combustible: Promedio: {average([tanque1, tanque2, tanque3])}% Tanque 1: {tanque1}% Tanque 2: {tanque2}% Tanque 3: {tanque3}% \"\"\"\n",
    "\n",
    "# Call the updated function again with different values\n",
    "print(funcionreporte(45, 66, 78))"
   ]
  },
  {
   "cell_type": "code",
   "execution_count": 14,
   "metadata": {},
   "outputs": [
    {
     "name": "stdout",
     "output_type": "stream",
     "text": [
      " Misión Marte Total de viaje: 64 minutos , combustible restante: 30000\n",
      " Misión Marte Total de viaje: 76 minutos, combustible restante: 30000\n",
      " Misión Marte Total de viaje: 113 minutos , combustible restante: 30000 \n",
      "tanqueexterno tanque 20000 galones restantes \n",
      "tanqueinterno tanque 10000 galones restantes \n",
      "\n"
     ]
    }
   ],
   "source": [
    "# Función con un informe preciso de la misión. Considera hora de prelanzamiento, tiempo de vuelo, destino, tanque externo y tanque interno\n",
    "\n",
    "def informe(prelanzamiento, tiempovuelo, destination, tanqueexterno, tanqueinterno):\n",
    "    return f\"\"\" Misión {destination} Total de viaje: {prelanzamiento + tiempovuelo} minutos , combustible restante: {tanqueexterno + tanqueinterno}\"\"\"\n",
    "\n",
    "print(informe(20, 44, \"Marte\", 10000, 20000))\n",
    "\n",
    "# Escribe tu nueva función de reporte considerando lo anterior\n",
    "\n",
    "def informe(destination, *minutos, **reserva):\n",
    "    return f\"\"\" Misión {destination} Total de viaje: {sum(minutos)} minutos, combustible restante: {sum(reserva.values())}\"\"\"\n",
    "print(informe(\"Marte\", 10, 15, 51, tanqueexterno=20000, tanqueinterno=10000))\n",
    "\n",
    "# Escribe tu nueva función\n",
    "\n",
    "def informe(destination, *minutos, **reserva):\n",
    "    reporte = f\"\"\" Misión {destination} Total de viaje: {sum(minutos)} minutos , combustible restante: {sum(reserva.values())} \\n\"\"\"\n",
    "    for tanque, galones in reserva.items():\n",
    "        reporte += f\"{tanque} tanque {galones} galones restantes \\n\"\n",
    "    return reporte\n",
    "\n",
    "print(informe(\"Marte\", 10, 25, 78, tanqueexterno=20000, tanqueinterno=10000))"
   ]
  }
 ],
 "metadata": {
  "interpreter": {
   "hash": "49003a069d6c02fb186676f58658b84b4678e61b93ffd93074ddf71aa53f7c1c"
  },
  "kernelspec": {
   "display_name": "Python 3.10.2 64-bit",
   "language": "python",
   "name": "python3"
  },
  "language_info": {
   "name": "python",
   "version": "3.10.2"
  },
  "orig_nbformat": 4
 },
 "nbformat": 4,
 "nbformat_minor": 2
}
