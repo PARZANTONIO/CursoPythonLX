{
 "cells": [
  {
   "cell_type": "code",
   "execution_count": 16,
   "metadata": {},
   "outputs": [
    {
     "name": "stdout",
     "output_type": "stream",
     "text": [
      "---\n",
      " On average, the Moon moves 4cm away from the Earth every year\n",
      " The highest daylight temperature of the Moon is 127 C\n",
      "---\n",
      " On average, the Moon moves 4cm away from the Earth every year\n",
      " The highest daylight temperature of the Moon is 127 Celsius\n"
     ]
    }
   ],
   "source": [
    "text = \"\"\"Interesting facts about the Moon. The Moon is Earth's only satellite. There are several interesting facts about the Moon and how it affects life here on Earth. On average, the Moon moves 4cm away from the Earth every year. This yearly drift is not significant enough to cause immediate effects on Earth. The highest daylight temperature of the Moon is 127 C.\"\"\"\n",
    "divide = text.split(\".\")\n",
    "divide\n",
    "# Define las palabras pista: average, temperature y distance suenan bien\n",
    "pistas = ['average', 'temperature', 'distance']\n",
    "print(\"---\")\n",
    "# Cre un bucle para imprimir solo datos sobre la Luna que estén relacionados con las palabras clave definidas anteriormente: Ciclo for para recorrer la cadena\n",
    "for item in divide:\n",
    "    for pista in pistas:\n",
    "        if pista in item:\n",
    "            print(item)\n",
    "            break\n",
    "\n",
    "print(\"---\")\n",
    "\n",
    "#Finalmente, actualiza el bucle(ciclo) para cambiar C a Celsius:\n",
    "for item in divide:\n",
    "    for pista in pistas:\n",
    "        if pista in item:\n",
    "            print(item.replace(' C', ' Celsius'))\n",
    "            break\n",
    "\n",
    "\n",
    "        \n"
   ]
  },
  {
   "cell_type": "code",
   "execution_count": 35,
   "metadata": {},
   "outputs": [
    {
     "name": "stdout",
     "output_type": "stream",
     "text": [
      "Facts Of The Moon\n",
      "In the planet: Earth , The Gravity in the Moon is: 1.6199999999999999 m/s2\n",
      "\n",
      "In the planet: Earth , The Gravity in the Moon is: 1.6199999999999999 m/s2\n",
      "Facts of the: Ganímedes, nombre del planeta Marte  y la gravedad en Ganímedes: 1.4300000000000002 m/s2\n"
     ]
    }
   ],
   "source": [
    "\n",
    "name = \"Moon\"\n",
    "gravity = 0.00162 # in kms\n",
    "planet = \"Earth\"\n",
    "#TITULO\n",
    "title = f\"Facts of the {name}\"\n",
    "\n",
    "#PLANTILLA\n",
    "facts = f\"\"\"In the planet: {planet} , The Gravity in the {name} is: {gravity * 1000} m/s2\"\"\"\n",
    "\n",
    "#UNIÓN\n",
    "template = f\"\"\"{title.title()}\n",
    "{facts}\n",
    "\"\"\"\n",
    "print(template)\n",
    "\n",
    "# Nuevos datos muestra\n",
    "planeta = 'Marte '\n",
    "gravedad  = 0.00143\n",
    "nombre = 'Ganímedes'\n",
    "\n",
    "# Comprobamos la plantilla\n",
    "print(facts)\n",
    "\n",
    "nuevaplantilla = \"\"\"Facts of the: {nombre}, nombre del planeta {planeta} y la gravedad en {nombre}: {gravedad} m/s2\"\"\"\n",
    "print(nuevaplantilla.format(nombre=nombre, planeta=planeta, gravedad=gravedad*1000))\n"
   ]
  }
 ],
 "metadata": {
  "interpreter": {
   "hash": "49003a069d6c02fb186676f58658b84b4678e61b93ffd93074ddf71aa53f7c1c"
  },
  "kernelspec": {
   "display_name": "Python 3.10.2 64-bit",
   "language": "python",
   "name": "python3"
  },
  "language_info": {
   "codemirror_mode": {
    "name": "ipython",
    "version": 3
   },
   "file_extension": ".py",
   "mimetype": "text/x-python",
   "name": "python",
   "nbconvert_exporter": "python",
   "pygments_lexer": "ipython3",
   "version": "3.10.2"
  },
  "orig_nbformat": 4
 },
 "nbformat": 4,
 "nbformat_minor": 2
}
