{
 "cells": [
  {
   "cell_type": "code",
   "execution_count": 4,
   "metadata": {},
   "outputs": [
    {
     "name": "stdout",
     "output_type": "stream",
     "text": [
      "Advertencia, un asteroide se acerca demasiado rapido a la Tierra\n"
     ]
    }
   ],
   "source": [
    "asteroidv=49\n",
    "if asteroidv > 25:\n",
    "    print (\"Advertencia, un asteroide se acerca demasiado rapido a la Tierra\")\n",
    "else:\n",
    "    print (\"No alertar a la Población, sigue con tu dia\")\n",
    "\n"
   ]
  },
  {
   "cell_type": "code",
   "execution_count": 5,
   "metadata": {},
   "outputs": [
    {
     "name": "stdout",
     "output_type": "stream",
     "text": [
      "No hay por que alertar a la Poblacion\n"
     ]
    }
   ],
   "source": [
    "asteroidv = 19\n",
    "if asteroidv >= 20:\n",
    "    print(\"Rayo de luz desde la Tierra\")\n",
    "elif asteroidv == 20:\n",
    "    print(\"Hay un rayo de luz en el cielo\")\n",
    "else:\n",
    "    print(\"No hay por que alertar a la Poblacion\")"
   ]
  },
  {
   "cell_type": "code",
   "execution_count": 10,
   "metadata": {},
   "outputs": [
    {
     "name": "stdout",
     "output_type": "stream",
     "text": [
      "Hay un rayo de luz en el cielo\n"
     ]
    }
   ],
   "source": [
    "asteroidsize = 50\n",
    "asteroidv = 25\n",
    "if asteroidsize > 25 and asteroidv > 25:\n",
    "    print(\"El asteroide causara mucho daño y viene hacia la Tierra\")\n",
    "elif asteroidv >= 20:\n",
    "    print(\"Hay un rayo de luz en el cielo\")\n",
    "elif asteroidsize > 25 and asteroidsize < 1000:\n",
    "    print(\"CUIDADO!! un asteroide se aproxima\")\n",
    "else:\n",
    "    print(\"No hay por que alertar a la Poblacion\")"
   ]
  }
 ],
 "metadata": {
  "interpreter": {
   "hash": "49003a069d6c02fb186676f58658b84b4678e61b93ffd93074ddf71aa53f7c1c"
  },
  "kernelspec": {
   "display_name": "Python 3.10.2 64-bit",
   "language": "python",
   "name": "python3"
  },
  "language_info": {
   "codemirror_mode": {
    "name": "ipython",
    "version": 3
   },
   "file_extension": ".py",
   "mimetype": "text/x-python",
   "name": "python",
   "nbconvert_exporter": "python",
   "pygments_lexer": "ipython3",
   "version": "3.10.2"
  },
  "orig_nbformat": 4
 },
 "nbformat": 4,
 "nbformat_minor": 2
}
