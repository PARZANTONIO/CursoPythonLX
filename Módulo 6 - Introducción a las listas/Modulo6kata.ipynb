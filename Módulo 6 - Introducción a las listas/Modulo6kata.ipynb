{
 "cells": [
  {
   "cell_type": "code",
   "execution_count": 4,
   "metadata": {},
   "outputs": [
    {
     "name": "stdout",
     "output_type": "stream",
     "text": [
      "Mostrando los planetas:  ['Mercury', 'Venus', 'Earth', 'Mars', 'Jupiter', 'Saturn', 'Neptune']\n",
      "Mostrando los planetas, más plutón:  ['Mercury', 'Venus', 'Earth', 'Mars', 'Jupiter', 'Saturn', 'Neptune', 'Plutón']\n"
     ]
    }
   ],
   "source": [
    "# Creamos la lista planets y la mostramos\n",
    "planets = ['Mercury', 'Venus', 'Earth', 'Mars', 'Jupiter', 'Saturn', 'Neptune']\n",
    "print(\"Mostrando los planetas: \" , planets)\n",
    "\n",
    "# Agregamos a plutón y mostramos el último elemento\n",
    "planets.append('Plutón')\n",
    "print(\"Mostrando los planetas, más plutón: \", planets)\n"
   ]
  },
  {
   "cell_type": "code",
   "execution_count": 10,
   "metadata": {},
   "outputs": [
    {
     "name": "stdout",
     "output_type": "stream",
     "text": [
      "Your planet is in the Index:  3\n",
      "Los planetas mas cercanos al sol desde el planeta que ingresaste: Mars\n",
      "['Mercury', 'Venus', 'Earth']\n",
      "Los planetas mas lejanos al sol desde el planeta que ingresaste: Mars\n",
      "['Jupiter', 'Saturn', 'Neptune']\n"
     ]
    }
   ],
   "source": [
    "# Lista de planetas\n",
    "planets = ['Mercury', 'Venus', 'Earth', 'Mars', 'Jupiter', 'Saturn', 'Neptune']\n",
    "# Solicitamos el nombre de un planeta\n",
    "nombrePlaneta = input(\"Ingrese el nombre del planeta, usando la primera letra Mayuscula: \")\n",
    "indiceplaneta = planets.index(nombrePlaneta)\n",
    "# Indice del planeta\n",
    "print('Your planet is in the Index: ', indiceplaneta)\n",
    "# Buscar planetas cercanos al sol\n",
    "print('Los planetas mas cercanos al sol desde el planeta que ingresaste: ' + nombrePlaneta)\n",
    "print(planets[0:indiceplaneta])\n",
    "# Buscar planetas lejanos al sol\n",
    "print('Los planetas mas lejanos al sol desde el planeta que ingresaste: ' + nombrePlaneta)\n",
    "print(planets[indiceplaneta + 1:])"
   ]
  },
  {
   "cell_type": "code",
   "execution_count": null,
   "metadata": {},
   "outputs": [],
   "source": []
  }
 ],
 "metadata": {
  "interpreter": {
   "hash": "49003a069d6c02fb186676f58658b84b4678e61b93ffd93074ddf71aa53f7c1c"
  },
  "kernelspec": {
   "display_name": "Python 3.10.2 64-bit",
   "language": "python",
   "name": "python3"
  },
  "language_info": {
   "codemirror_mode": {
    "name": "ipython",
    "version": 3
   },
   "file_extension": ".py",
   "mimetype": "text/x-python",
   "name": "python",
   "nbconvert_exporter": "python",
   "pygments_lexer": "ipython3",
   "version": "3.10.2"
  },
  "orig_nbformat": 4
 },
 "nbformat": 4,
 "nbformat_minor": 2
}
